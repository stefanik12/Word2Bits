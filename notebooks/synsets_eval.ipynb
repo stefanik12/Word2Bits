{
 "cells": [
  {
   "cell_type": "markdown",
   "metadata": {},
   "source": [
    "## Synonyms evaluation\n",
    "\n",
    "A methodology to evaluate a goodness-of-fit of word embeddings.\n",
    "\n",
    "### Approach:\n",
    "\n",
    "1. Categorize a dictionary of words into clusters of synonyms\n",
    "2. Select a set of reasonably big clusters and\n",
    "3. Evaluate how many unique bit representations there is for each synonym cluster\n",
    "4. Evaluate how many, and how well are the best bits consistent for given synonym cluster"
   ]
  },
  {
   "cell_type": "code",
   "execution_count": 1,
   "metadata": {
    "scrolled": true
   },
   "outputs": [
    {
     "data": {
      "text/html": [
       "<div>\n",
       "<style scoped>\n",
       "    .dataframe tbody tr th:only-of-type {\n",
       "        vertical-align: middle;\n",
       "    }\n",
       "\n",
       "    .dataframe tbody tr th {\n",
       "        vertical-align: top;\n",
       "    }\n",
       "\n",
       "    .dataframe thead th {\n",
       "        text-align: right;\n",
       "    }\n",
       "</style>\n",
       "<table border=\"1\" class=\"dataframe\">\n",
       "  <thead>\n",
       "    <tr style=\"text-align: right;\">\n",
       "      <th></th>\n",
       "      <th>1</th>\n",
       "      <th>2</th>\n",
       "      <th>3</th>\n",
       "      <th>4</th>\n",
       "      <th>5</th>\n",
       "      <th>6</th>\n",
       "      <th>7</th>\n",
       "      <th>8</th>\n",
       "      <th>9</th>\n",
       "      <th>10</th>\n",
       "    </tr>\n",
       "    <tr>\n",
       "      <th>0</th>\n",
       "      <th></th>\n",
       "      <th></th>\n",
       "      <th></th>\n",
       "      <th></th>\n",
       "      <th></th>\n",
       "      <th></th>\n",
       "      <th></th>\n",
       "      <th></th>\n",
       "      <th></th>\n",
       "      <th></th>\n",
       "    </tr>\n",
       "  </thead>\n",
       "  <tbody>\n",
       "    <tr>\n",
       "      <th>&lt;/s&gt;</th>\n",
       "      <td>1</td>\n",
       "      <td>1</td>\n",
       "      <td>0</td>\n",
       "      <td>0</td>\n",
       "      <td>0</td>\n",
       "      <td>0</td>\n",
       "      <td>1</td>\n",
       "      <td>1</td>\n",
       "      <td>0</td>\n",
       "      <td>1</td>\n",
       "    </tr>\n",
       "    <tr>\n",
       "      <th>the</th>\n",
       "      <td>1</td>\n",
       "      <td>1</td>\n",
       "      <td>0</td>\n",
       "      <td>1</td>\n",
       "      <td>1</td>\n",
       "      <td>0</td>\n",
       "      <td>0</td>\n",
       "      <td>0</td>\n",
       "      <td>0</td>\n",
       "      <td>1</td>\n",
       "    </tr>\n",
       "    <tr>\n",
       "      <th>of</th>\n",
       "      <td>1</td>\n",
       "      <td>1</td>\n",
       "      <td>0</td>\n",
       "      <td>1</td>\n",
       "      <td>1</td>\n",
       "      <td>0</td>\n",
       "      <td>0</td>\n",
       "      <td>0</td>\n",
       "      <td>0</td>\n",
       "      <td>1</td>\n",
       "    </tr>\n",
       "    <tr>\n",
       "      <th>and</th>\n",
       "      <td>1</td>\n",
       "      <td>1</td>\n",
       "      <td>0</td>\n",
       "      <td>1</td>\n",
       "      <td>1</td>\n",
       "      <td>0</td>\n",
       "      <td>0</td>\n",
       "      <td>0</td>\n",
       "      <td>0</td>\n",
       "      <td>1</td>\n",
       "    </tr>\n",
       "    <tr>\n",
       "      <th>one</th>\n",
       "      <td>1</td>\n",
       "      <td>1</td>\n",
       "      <td>0</td>\n",
       "      <td>1</td>\n",
       "      <td>1</td>\n",
       "      <td>0</td>\n",
       "      <td>0</td>\n",
       "      <td>0</td>\n",
       "      <td>0</td>\n",
       "      <td>1</td>\n",
       "    </tr>\n",
       "    <tr>\n",
       "      <th>in</th>\n",
       "      <td>1</td>\n",
       "      <td>1</td>\n",
       "      <td>0</td>\n",
       "      <td>1</td>\n",
       "      <td>1</td>\n",
       "      <td>0</td>\n",
       "      <td>0</td>\n",
       "      <td>0</td>\n",
       "      <td>0</td>\n",
       "      <td>1</td>\n",
       "    </tr>\n",
       "    <tr>\n",
       "      <th>a</th>\n",
       "      <td>1</td>\n",
       "      <td>1</td>\n",
       "      <td>0</td>\n",
       "      <td>1</td>\n",
       "      <td>1</td>\n",
       "      <td>0</td>\n",
       "      <td>0</td>\n",
       "      <td>0</td>\n",
       "      <td>0</td>\n",
       "      <td>1</td>\n",
       "    </tr>\n",
       "    <tr>\n",
       "      <th>to</th>\n",
       "      <td>1</td>\n",
       "      <td>1</td>\n",
       "      <td>0</td>\n",
       "      <td>1</td>\n",
       "      <td>1</td>\n",
       "      <td>0</td>\n",
       "      <td>0</td>\n",
       "      <td>0</td>\n",
       "      <td>0</td>\n",
       "      <td>1</td>\n",
       "    </tr>\n",
       "    <tr>\n",
       "      <th>zero</th>\n",
       "      <td>1</td>\n",
       "      <td>1</td>\n",
       "      <td>0</td>\n",
       "      <td>1</td>\n",
       "      <td>1</td>\n",
       "      <td>0</td>\n",
       "      <td>0</td>\n",
       "      <td>0</td>\n",
       "      <td>0</td>\n",
       "      <td>1</td>\n",
       "    </tr>\n",
       "    <tr>\n",
       "      <th>nine</th>\n",
       "      <td>1</td>\n",
       "      <td>1</td>\n",
       "      <td>0</td>\n",
       "      <td>1</td>\n",
       "      <td>1</td>\n",
       "      <td>0</td>\n",
       "      <td>0</td>\n",
       "      <td>0</td>\n",
       "      <td>0</td>\n",
       "      <td>1</td>\n",
       "    </tr>\n",
       "  </tbody>\n",
       "</table>\n",
       "</div>"
      ],
      "text/plain": [
       "      1   2   3   4   5   6   7   8   9   10\n",
       "0                                           \n",
       "</s>   1   1   0   0   0   0   1   1   0   1\n",
       "the    1   1   0   1   1   0   0   0   0   1\n",
       "of     1   1   0   1   1   0   0   0   0   1\n",
       "and    1   1   0   1   1   0   0   0   0   1\n",
       "one    1   1   0   1   1   0   0   0   0   1\n",
       "in     1   1   0   1   1   0   0   0   0   1\n",
       "a      1   1   0   1   1   0   0   0   0   1\n",
       "to     1   1   0   1   1   0   0   0   0   1\n",
       "zero   1   1   0   1   1   0   0   0   0   1\n",
       "nine   1   1   0   1   1   0   0   0   0   1"
      ]
     },
     "execution_count": 1,
     "metadata": {},
     "output_type": "execute_result"
    }
   ],
   "source": [
    "import pandas as pd\n",
    "from nltk.corpus import wordnet as wn\n",
    "\n",
    "vecs_df = pd.read_csv(\"../vectors/1b10d_vectors_e10_nonbin\", skiprows=[0], header=None, sep=\" \")\n",
    "vecs_df = vecs_df.set_index(0)\n",
    "vecs_df = vecs_df.drop(columns=[vecs_df.columns[-1]])\n",
    "vecs_df = vecs_df.replace(vecs_df.values.max(), 1)\n",
    "vecs_df = vecs_df.replace(vecs_df.values.min(), 0)\n",
    "# retype to minimal range int to save space\n",
    "vecs_df = vecs_df.astype('int8')\n",
    "vecs_df.head(10)"
   ]
  },
  {
   "cell_type": "code",
   "execution_count": 2,
   "metadata": {},
   "outputs": [
    {
     "name": "stdout",
     "output_type": "stream",
     "text": [
      "see.n.01 ['see']\n",
      "see.v.01 ['see']\n",
      "understand.v.02 ['understand', 'realize', 'realise', 'see']\n",
      "witness.v.02 ['witness', 'find', 'see']\n",
      "visualize.v.01 ['visualize', 'visualise', 'envision', 'project', 'fancy', 'see', 'figure', 'picture', 'image']\n",
      "see.v.05 ['see', 'consider', 'reckon', 'view', 'regard']\n",
      "learn.v.02 ['learn', 'hear', 'get_word', 'get_wind', 'pick_up', 'find_out', 'get_a_line', 'discover', 'see']\n",
      "watch.v.03 ['watch', 'view', 'see', 'catch', 'take_in']\n",
      "meet.v.01 ['meet', 'run_into', 'encounter', 'run_across', 'come_across', 'see']\n",
      "determine.v.08 ['determine', 'check', 'find_out', 'see', 'ascertain', 'watch', 'learn']\n",
      "see.v.10 ['see', 'check', 'insure', 'see_to_it', 'ensure', 'control', 'ascertain', 'assure']\n",
      "see.v.11 ['see']\n",
      "see.v.12 ['see']\n",
      "visit.v.01 ['visit', 'see']\n",
      "attend.v.02 ['attend', 'take_care', 'look', 'see']\n",
      "see.v.15 ['see']\n",
      "go_steady.v.01 ['go_steady', 'go_out', 'date', 'see']\n",
      "see.v.17 ['see']\n",
      "see.v.18 ['see']\n",
      "see.v.19 ['see']\n",
      "examine.v.02 ['examine', 'see']\n",
      "experience.v.01 ['experience', 'see', 'go_through']\n",
      "see.v.22 ['see', 'escort']\n",
      "see.v.23 ['see']\n",
      "interpret.v.01 ['interpret', 'construe', 'see']\n"
     ]
    }
   ],
   "source": [
    "# inference of synonyms for root lemma\n",
    "for ss in wn.synsets('see'):\n",
    "    print(ss.name(), ss.lemma_names())"
   ]
  },
  {
   "cell_type": "code",
   "execution_count": 3,
   "metadata": {},
   "outputs": [],
   "source": [
    "# 1. one category is a word with synonyms in dictionary\n",
    "from nltk.corpus import wordnet as wn\n",
    "\n",
    "def syns_for_lemma(lemma):\n",
    "    syn_lemmas = set()\n",
    "    for ss in wn.synsets(lemma):\n",
    "        new_syn_lemmas = set(ss.lemma_names())\n",
    "        syn_lemmas |= new_syn_lemmas\n",
    "    return syn_lemmas"
   ]
  },
  {
   "cell_type": "code",
   "execution_count": 4,
   "metadata": {},
   "outputs": [],
   "source": [
    "def vecs_for_lemmaset(syn_lemmas_seen, vecs_df):\n",
    "    return vecs_df.loc[syn_lemmas_seen]"
   ]
  },
  {
   "cell_type": "code",
   "execution_count": 5,
   "metadata": {},
   "outputs": [],
   "source": [
    "def vecs_for_synset(lemma, vecs_df):\n",
    "    syn_lemmas = syns_for_lemma(lemma)\n",
    "    syn_lemmas_seen = set(filter(lambda syn: syn in vecs_df.index, syn_lemmas))\n",
    "    return vecs_for_lemmaset(syn_lemmas_seen, vecs_df)"
   ]
  },
  {
   "cell_type": "code",
   "execution_count": 6,
   "metadata": {
    "scrolled": true
   },
   "outputs": [],
   "source": [
    "#2: select reasonably big clusters\n",
    "def top_lemmas_by_synset(vecs_df, q=0.99):\n",
    "    lemmas_syns = [syns_for_lemma(str(lemma)) for lemma in vecs_df.index]\n",
    "    lemmas_syns_seen = [filter(lambda syn: syn in vecs_df.index, syns) for syns in lemmas_syns]\n",
    "    seen_lemmas_count = list(map(lambda syns: len(set(syns)), lemmas_syns_seen))\n",
    "    counts_s = pd.Series(seen_lemmas_count, index=vecs_df.index)\n",
    "    return counts_s[counts_s >= counts_s.quantile(q)]"
   ]
  },
  {
   "cell_type": "code",
   "execution_count": 7,
   "metadata": {},
   "outputs": [
    {
     "data": {
      "text/plain": [
       "count    60238.000000\n",
       "mean         2.232810\n",
       "std          3.883556\n",
       "min          0.000000\n",
       "25%          0.000000\n",
       "50%          1.000000\n",
       "75%          3.000000\n",
       "max         62.000000\n",
       "dtype: float64"
      ]
     },
     "execution_count": 7,
     "metadata": {},
     "output_type": "execute_result"
    }
   ],
   "source": [
    "top_lemmas_by_synset(vecs_df, q=0).describe()"
   ]
  },
  {
   "cell_type": "code",
   "execution_count": 8,
   "metadata": {},
   "outputs": [
    {
     "data": {
      "text/plain": [
       "count    663.000000\n",
       "mean      24.749623\n",
       "std        8.166548\n",
       "min       18.000000\n",
       "25%       19.000000\n",
       "50%       22.000000\n",
       "75%       27.000000\n",
       "max       62.000000\n",
       "dtype: float64"
      ]
     },
     "execution_count": 8,
     "metadata": {},
     "output_type": "execute_result"
    }
   ],
   "source": [
    "top_lemmas_count = top_lemmas_by_synset(vecs_df)\n",
    "top_lemmas_count.describe()"
   ]
  },
  {
   "cell_type": "code",
   "execution_count": 9,
   "metadata": {},
   "outputs": [
    {
     "data": {
      "text/plain": [
       "'have'"
      ]
     },
     "execution_count": 9,
     "metadata": {},
     "output_type": "execute_result"
    }
   ],
   "source": [
    "top_lemmas_count.index[0]"
   ]
  },
  {
   "cell_type": "code",
   "execution_count": 10,
   "metadata": {
    "scrolled": true
   },
   "outputs": [
    {
     "data": {
      "text/html": [
       "<div>\n",
       "<style scoped>\n",
       "    .dataframe tbody tr th:only-of-type {\n",
       "        vertical-align: middle;\n",
       "    }\n",
       "\n",
       "    .dataframe tbody tr th {\n",
       "        vertical-align: top;\n",
       "    }\n",
       "\n",
       "    .dataframe thead th {\n",
       "        text-align: right;\n",
       "    }\n",
       "</style>\n",
       "<table border=\"1\" class=\"dataframe\">\n",
       "  <thead>\n",
       "    <tr style=\"text-align: right;\">\n",
       "      <th></th>\n",
       "      <th>1</th>\n",
       "      <th>2</th>\n",
       "      <th>3</th>\n",
       "      <th>4</th>\n",
       "      <th>5</th>\n",
       "      <th>6</th>\n",
       "      <th>7</th>\n",
       "      <th>8</th>\n",
       "      <th>9</th>\n",
       "      <th>10</th>\n",
       "    </tr>\n",
       "    <tr>\n",
       "      <th>0</th>\n",
       "      <th></th>\n",
       "      <th></th>\n",
       "      <th></th>\n",
       "      <th></th>\n",
       "      <th></th>\n",
       "      <th></th>\n",
       "      <th></th>\n",
       "      <th></th>\n",
       "      <th></th>\n",
       "      <th></th>\n",
       "    </tr>\n",
       "  </thead>\n",
       "  <tbody>\n",
       "    <tr>\n",
       "      <th>bear</th>\n",
       "      <td>1</td>\n",
       "      <td>1</td>\n",
       "      <td>0</td>\n",
       "      <td>1</td>\n",
       "      <td>1</td>\n",
       "      <td>0</td>\n",
       "      <td>0</td>\n",
       "      <td>0</td>\n",
       "      <td>0</td>\n",
       "      <td>1</td>\n",
       "    </tr>\n",
       "    <tr>\n",
       "      <th>feature</th>\n",
       "      <td>1</td>\n",
       "      <td>1</td>\n",
       "      <td>0</td>\n",
       "      <td>1</td>\n",
       "      <td>1</td>\n",
       "      <td>0</td>\n",
       "      <td>0</td>\n",
       "      <td>0</td>\n",
       "      <td>0</td>\n",
       "      <td>1</td>\n",
       "    </tr>\n",
       "    <tr>\n",
       "      <th>induce</th>\n",
       "      <td>1</td>\n",
       "      <td>1</td>\n",
       "      <td>0</td>\n",
       "      <td>1</td>\n",
       "      <td>1</td>\n",
       "      <td>0</td>\n",
       "      <td>0</td>\n",
       "      <td>0</td>\n",
       "      <td>0</td>\n",
       "      <td>1</td>\n",
       "    </tr>\n",
       "    <tr>\n",
       "      <th>hold</th>\n",
       "      <td>1</td>\n",
       "      <td>1</td>\n",
       "      <td>0</td>\n",
       "      <td>1</td>\n",
       "      <td>1</td>\n",
       "      <td>0</td>\n",
       "      <td>0</td>\n",
       "      <td>0</td>\n",
       "      <td>0</td>\n",
       "      <td>1</td>\n",
       "    </tr>\n",
       "    <tr>\n",
       "      <th>consume</th>\n",
       "      <td>1</td>\n",
       "      <td>1</td>\n",
       "      <td>0</td>\n",
       "      <td>1</td>\n",
       "      <td>1</td>\n",
       "      <td>0</td>\n",
       "      <td>0</td>\n",
       "      <td>0</td>\n",
       "      <td>0</td>\n",
       "      <td>1</td>\n",
       "    </tr>\n",
       "    <tr>\n",
       "      <th>ingest</th>\n",
       "      <td>1</td>\n",
       "      <td>1</td>\n",
       "      <td>0</td>\n",
       "      <td>1</td>\n",
       "      <td>1</td>\n",
       "      <td>0</td>\n",
       "      <td>0</td>\n",
       "      <td>0</td>\n",
       "      <td>0</td>\n",
       "      <td>1</td>\n",
       "    </tr>\n",
       "    <tr>\n",
       "      <th>stimulate</th>\n",
       "      <td>1</td>\n",
       "      <td>1</td>\n",
       "      <td>0</td>\n",
       "      <td>1</td>\n",
       "      <td>1</td>\n",
       "      <td>0</td>\n",
       "      <td>0</td>\n",
       "      <td>0</td>\n",
       "      <td>0</td>\n",
       "      <td>1</td>\n",
       "    </tr>\n",
       "    <tr>\n",
       "      <th>cause</th>\n",
       "      <td>1</td>\n",
       "      <td>1</td>\n",
       "      <td>0</td>\n",
       "      <td>1</td>\n",
       "      <td>1</td>\n",
       "      <td>0</td>\n",
       "      <td>0</td>\n",
       "      <td>0</td>\n",
       "      <td>0</td>\n",
       "      <td>1</td>\n",
       "    </tr>\n",
       "    <tr>\n",
       "      <th>experience</th>\n",
       "      <td>1</td>\n",
       "      <td>1</td>\n",
       "      <td>0</td>\n",
       "      <td>1</td>\n",
       "      <td>1</td>\n",
       "      <td>0</td>\n",
       "      <td>0</td>\n",
       "      <td>0</td>\n",
       "      <td>0</td>\n",
       "      <td>1</td>\n",
       "    </tr>\n",
       "    <tr>\n",
       "      <th>throw</th>\n",
       "      <td>1</td>\n",
       "      <td>1</td>\n",
       "      <td>0</td>\n",
       "      <td>1</td>\n",
       "      <td>1</td>\n",
       "      <td>0</td>\n",
       "      <td>0</td>\n",
       "      <td>0</td>\n",
       "      <td>0</td>\n",
       "      <td>1</td>\n",
       "    </tr>\n",
       "    <tr>\n",
       "      <th>give</th>\n",
       "      <td>1</td>\n",
       "      <td>1</td>\n",
       "      <td>0</td>\n",
       "      <td>1</td>\n",
       "      <td>1</td>\n",
       "      <td>0</td>\n",
       "      <td>0</td>\n",
       "      <td>0</td>\n",
       "      <td>0</td>\n",
       "      <td>1</td>\n",
       "    </tr>\n",
       "    <tr>\n",
       "      <th>accept</th>\n",
       "      <td>1</td>\n",
       "      <td>1</td>\n",
       "      <td>0</td>\n",
       "      <td>1</td>\n",
       "      <td>1</td>\n",
       "      <td>0</td>\n",
       "      <td>0</td>\n",
       "      <td>0</td>\n",
       "      <td>0</td>\n",
       "      <td>1</td>\n",
       "    </tr>\n",
       "    <tr>\n",
       "      <th>deliver</th>\n",
       "      <td>1</td>\n",
       "      <td>1</td>\n",
       "      <td>0</td>\n",
       "      <td>1</td>\n",
       "      <td>1</td>\n",
       "      <td>0</td>\n",
       "      <td>0</td>\n",
       "      <td>0</td>\n",
       "      <td>0</td>\n",
       "      <td>1</td>\n",
       "    </tr>\n",
       "    <tr>\n",
       "      <th>sustain</th>\n",
       "      <td>1</td>\n",
       "      <td>1</td>\n",
       "      <td>0</td>\n",
       "      <td>1</td>\n",
       "      <td>1</td>\n",
       "      <td>0</td>\n",
       "      <td>0</td>\n",
       "      <td>0</td>\n",
       "      <td>0</td>\n",
       "      <td>1</td>\n",
       "    </tr>\n",
       "    <tr>\n",
       "      <th>own</th>\n",
       "      <td>1</td>\n",
       "      <td>1</td>\n",
       "      <td>0</td>\n",
       "      <td>1</td>\n",
       "      <td>1</td>\n",
       "      <td>0</td>\n",
       "      <td>0</td>\n",
       "      <td>0</td>\n",
       "      <td>0</td>\n",
       "      <td>1</td>\n",
       "    </tr>\n",
       "    <tr>\n",
       "      <th>take</th>\n",
       "      <td>1</td>\n",
       "      <td>1</td>\n",
       "      <td>0</td>\n",
       "      <td>1</td>\n",
       "      <td>1</td>\n",
       "      <td>0</td>\n",
       "      <td>0</td>\n",
       "      <td>0</td>\n",
       "      <td>0</td>\n",
       "      <td>1</td>\n",
       "    </tr>\n",
       "    <tr>\n",
       "      <th>suffer</th>\n",
       "      <td>1</td>\n",
       "      <td>1</td>\n",
       "      <td>0</td>\n",
       "      <td>1</td>\n",
       "      <td>1</td>\n",
       "      <td>0</td>\n",
       "      <td>0</td>\n",
       "      <td>0</td>\n",
       "      <td>0</td>\n",
       "      <td>1</td>\n",
       "    </tr>\n",
       "    <tr>\n",
       "      <th>let</th>\n",
       "      <td>1</td>\n",
       "      <td>1</td>\n",
       "      <td>0</td>\n",
       "      <td>1</td>\n",
       "      <td>1</td>\n",
       "      <td>0</td>\n",
       "      <td>0</td>\n",
       "      <td>0</td>\n",
       "      <td>0</td>\n",
       "      <td>1</td>\n",
       "    </tr>\n",
       "    <tr>\n",
       "      <th>have</th>\n",
       "      <td>1</td>\n",
       "      <td>1</td>\n",
       "      <td>0</td>\n",
       "      <td>1</td>\n",
       "      <td>1</td>\n",
       "      <td>0</td>\n",
       "      <td>0</td>\n",
       "      <td>0</td>\n",
       "      <td>0</td>\n",
       "      <td>1</td>\n",
       "    </tr>\n",
       "    <tr>\n",
       "      <th>possess</th>\n",
       "      <td>1</td>\n",
       "      <td>1</td>\n",
       "      <td>0</td>\n",
       "      <td>1</td>\n",
       "      <td>1</td>\n",
       "      <td>0</td>\n",
       "      <td>0</td>\n",
       "      <td>0</td>\n",
       "      <td>0</td>\n",
       "      <td>1</td>\n",
       "    </tr>\n",
       "    <tr>\n",
       "      <th>receive</th>\n",
       "      <td>1</td>\n",
       "      <td>1</td>\n",
       "      <td>0</td>\n",
       "      <td>1</td>\n",
       "      <td>1</td>\n",
       "      <td>0</td>\n",
       "      <td>0</td>\n",
       "      <td>0</td>\n",
       "      <td>0</td>\n",
       "      <td>1</td>\n",
       "    </tr>\n",
       "    <tr>\n",
       "      <th>birth</th>\n",
       "      <td>1</td>\n",
       "      <td>1</td>\n",
       "      <td>0</td>\n",
       "      <td>1</td>\n",
       "      <td>1</td>\n",
       "      <td>0</td>\n",
       "      <td>0</td>\n",
       "      <td>0</td>\n",
       "      <td>0</td>\n",
       "      <td>1</td>\n",
       "    </tr>\n",
       "    <tr>\n",
       "      <th>make</th>\n",
       "      <td>1</td>\n",
       "      <td>1</td>\n",
       "      <td>0</td>\n",
       "      <td>1</td>\n",
       "      <td>1</td>\n",
       "      <td>0</td>\n",
       "      <td>0</td>\n",
       "      <td>0</td>\n",
       "      <td>0</td>\n",
       "      <td>1</td>\n",
       "    </tr>\n",
       "    <tr>\n",
       "      <th>get</th>\n",
       "      <td>1</td>\n",
       "      <td>1</td>\n",
       "      <td>0</td>\n",
       "      <td>1</td>\n",
       "      <td>1</td>\n",
       "      <td>0</td>\n",
       "      <td>0</td>\n",
       "      <td>0</td>\n",
       "      <td>0</td>\n",
       "      <td>1</td>\n",
       "    </tr>\n",
       "  </tbody>\n",
       "</table>\n",
       "</div>"
      ],
      "text/plain": [
       "            1   2   3   4   5   6   7   8   9   10\n",
       "0                                                 \n",
       "bear         1   1   0   1   1   0   0   0   0   1\n",
       "feature      1   1   0   1   1   0   0   0   0   1\n",
       "induce       1   1   0   1   1   0   0   0   0   1\n",
       "hold         1   1   0   1   1   0   0   0   0   1\n",
       "consume      1   1   0   1   1   0   0   0   0   1\n",
       "ingest       1   1   0   1   1   0   0   0   0   1\n",
       "stimulate    1   1   0   1   1   0   0   0   0   1\n",
       "cause        1   1   0   1   1   0   0   0   0   1\n",
       "experience   1   1   0   1   1   0   0   0   0   1\n",
       "throw        1   1   0   1   1   0   0   0   0   1\n",
       "give         1   1   0   1   1   0   0   0   0   1\n",
       "accept       1   1   0   1   1   0   0   0   0   1\n",
       "deliver      1   1   0   1   1   0   0   0   0   1\n",
       "sustain      1   1   0   1   1   0   0   0   0   1\n",
       "own          1   1   0   1   1   0   0   0   0   1\n",
       "take         1   1   0   1   1   0   0   0   0   1\n",
       "suffer       1   1   0   1   1   0   0   0   0   1\n",
       "let          1   1   0   1   1   0   0   0   0   1\n",
       "have         1   1   0   1   1   0   0   0   0   1\n",
       "possess      1   1   0   1   1   0   0   0   0   1\n",
       "receive      1   1   0   1   1   0   0   0   0   1\n",
       "birth        1   1   0   1   1   0   0   0   0   1\n",
       "make         1   1   0   1   1   0   0   0   0   1\n",
       "get          1   1   0   1   1   0   0   0   0   1"
      ]
     },
     "execution_count": 10,
     "metadata": {},
     "output_type": "execute_result"
    }
   ],
   "source": [
    "# retrieve vectors for given cluster\n",
    "vecs_for_synset(top_lemmas_count.index[0], vecs_df)"
   ]
  },
  {
   "cell_type": "code",
   "execution_count": 11,
   "metadata": {},
   "outputs": [],
   "source": [
    "# 3: compute fit score for category\n",
    "def unique_vecs_for_syns(root_lemma, vecs_df):\n",
    "    group_vecs = vecs_for_synset(root_lemma, vecs_df)\n",
    "    return len(group_vecs.drop_duplicates())"
   ]
  },
  {
   "cell_type": "markdown",
   "metadata": {},
   "source": [
    "## Number of unique vectors in one synset"
   ]
  },
  {
   "cell_type": "code",
   "execution_count": 12,
   "metadata": {
    "scrolled": true
   },
   "outputs": [
    {
     "data": {
      "text/plain": [
       "count    663.0\n",
       "mean       1.0\n",
       "std        0.0\n",
       "min        1.0\n",
       "25%        1.0\n",
       "50%        1.0\n",
       "75%        1.0\n",
       "max        1.0\n",
       "Name: 0, dtype: float64"
      ]
     },
     "execution_count": 12,
     "metadata": {},
     "output_type": "execute_result"
    }
   ],
   "source": [
    "syns_vector_groups = pd.Series(top_lemmas_count.index, index=top_lemmas_count.index) \\\n",
    "                        .apply(lambda root_lemma: unique_vecs_for_syns(root_lemma, vecs_df))\n",
    "syns_vector_groups.describe()"
   ]
  },
  {
   "cell_type": "code",
   "execution_count": 13,
   "metadata": {
    "scrolled": false
   },
   "outputs": [],
   "source": [
    "# interval counts for plotting\n",
    "%matplotlib inline\n",
    "import matplotlib.pyplot as plt\n",
    "\n",
    "\n",
    "def series_to_intvl_counts(s, bins=60):\n",
    "    no_bins = bins\n",
    "    step = int((s.max() - s.min()) / (no_bins+1))\n",
    "    step = 1 if step == 0 else step\n",
    "    bin_range = range(s.min()-10, s.max()+10 + int(s.max() / no_bins), step)\n",
    "\n",
    "    pd.cut(s.values, bins=bin_range)\n",
    "    return pd.Series(pd.cut(s.values, bins=bin_range, include_lowest=True)).value_counts(sort=False)"
   ]
  },
  {
   "cell_type": "markdown",
   "metadata": {},
   "source": [
    "### Aggregared # of unique vector types in synset"
   ]
  },
  {
   "cell_type": "code",
   "execution_count": 14,
   "metadata": {},
   "outputs": [
    {
     "data": {
      "text/plain": [
       "<matplotlib.axes._subplots.AxesSubplot at 0x7f977b3d95c0>"
      ]
     },
     "execution_count": 14,
     "metadata": {},
     "output_type": "execute_result"
    },
    {
     "data": {
      "image/png": "[encoded data removed]",
      "text/plain": [
       "<Figure size 1080x360 with 1 Axes>"
      ]
     },
     "metadata": {
      "needs_background": "light"
     },
     "output_type": "display_data"
    }
   ],
   "source": [
    "series_to_intvl_counts(syns_vector_groups, bins=25).plot(\"bar\", figsize=(15, 5), grid=True)"
   ]
  },
  {
   "cell_type": "code",
   "execution_count": 15,
   "metadata": {},
   "outputs": [],
   "source": [
    "import itertools\n",
    "import numpy as np\n",
    "\n",
    "\n",
    "def get_zero_one_combinations(l):\n",
    "    if l < 10:\n",
    "        i_ones_combs = [[np.bincount(xs, minlength=l) for xs in itertools.combinations(range(l),  i+1)] \n",
    "                        for i in range(l)]\n",
    "        i_ones_merged = itertools.chain.from_iterable(i_ones_combs)\n",
    "        return np.array(list(i_ones_merged)).astype('int8')\n",
    "    else:\n",
    "        # generates random sample of 2^20 zero-one vectors, if the size is too big\n",
    "        return np.random.choice([0, 1], size=(2**10, l)).astype('int8')"
   ]
  },
  {
   "cell_type": "markdown",
   "metadata": {},
   "source": [
    "## Number of occurrences of each vector type in dictionary "
   ]
  },
  {
   "cell_type": "code",
   "execution_count": 16,
   "metadata": {
    "scrolled": true
   },
   "outputs": [
    {
     "name": "stdout",
     "output_type": "stream",
     "text": [
      "CPU times: user 6min 19s, sys: 257 ms, total: 6min 19s\n",
      "Wall time: 6min 27s\n"
     ]
    }
   ],
   "source": [
    "%%time\n",
    "# all words might have the same vector representation to reach 1\n",
    "# we need to see the variability of vectors - here through sizes of groups by type\n",
    "v_len = len(vecs_df.columns.values)\n",
    "\n",
    "# TODO: choose a method for candidate selection - better to use seen vectors for larger lengths, \n",
    "# and all combinations for shorter vec lengths\n",
    "# count_candidates = get_zero_one_combinations(v_len)\n",
    "count_candidates = vecs_df.drop_duplicates().values\n",
    "# selection of a random sample, as counts for all take too long to aggregate\n",
    "count_candidates = count_candidates[np.random.randint(len(count_candidates), size=1024)]\n",
    "\n",
    "vec_type_lens = [sum(np.all(vecs_df.values == v, axis=1)) for v in count_candidates]\n",
    "vec_type_lens_s = pd.Series(vec_type_lens, index=map(str, get_zero_one_combinations(v_len)))\n",
    "vec_type_lens_s.values"
   ]
  },
  {
   "cell_type": "code",
   "execution_count": 17,
   "metadata": {},
   "outputs": [
    {
     "data": {
      "text/plain": [
       "count     1024.000000\n",
       "mean     15530.037109\n",
       "std      26356.944491\n",
       "min          1.000000\n",
       "25%          1.000000\n",
       "50%          8.000000\n",
       "75%      60228.000000\n",
       "max      60228.000000\n",
       "dtype: float64"
      ]
     },
     "execution_count": 17,
     "metadata": {},
     "output_type": "execute_result"
    }
   ],
   "source": [
    "vec_type_lens_s.describe()"
   ]
  },
  {
   "cell_type": "markdown",
   "metadata": {},
   "source": [
    "### Aggregated counts of occurence of vector types"
   ]
  },
  {
   "cell_type": "code",
   "execution_count": 18,
   "metadata": {},
   "outputs": [
    {
     "data": {
      "text/plain": [
       "<matplotlib.axes._subplots.AxesSubplot at 0x7f9778a39fd0>"
      ]
     },
     "execution_count": 18,
     "metadata": {},
     "output_type": "execute_result"
    },
    {
     "data": {
      "image/png": "[encoded data removed]",
      "text/plain": [
       "<Figure size 1080x360 with 1 Axes>"
      ]
     },
     "metadata": {
      "needs_background": "light"
     },
     "output_type": "display_data"
    }
   ],
   "source": [
    "series_to_intvl_counts(vec_type_lens_s, bins=60).plot(\"bar\", figsize=(15, 5), grid=True)"
   ]
  },
  {
   "cell_type": "code",
   "execution_count": 19,
   "metadata": {},
   "outputs": [
    {
     "data": {
      "text/plain": [
       "60227"
      ]
     },
     "execution_count": 19,
     "metadata": {},
     "output_type": "execute_result"
    }
   ],
   "source": [
    "int(vec_type_lens_s.max() - vec_type_lens_s.min() / 20)"
   ]
  },
  {
   "cell_type": "code",
   "execution_count": 20,
   "metadata": {},
   "outputs": [],
   "source": [
    "# 4: plot 4.1 evolution of unique vectors for synset + 4.2 std (or confidence intervals) of vector types"
   ]
  },
  {
   "cell_type": "code",
   "execution_count": 21,
   "metadata": {
    "scrolled": true
   },
   "outputs": [
    {
     "data": {
      "text/plain": [
       "['vectors/1b4d_vectors_e10_nonbin',\n",
       " 'vectors/1b6d_vectors_e10_nonbin',\n",
       " 'vectors/1b8d_vectors_e10_nonbin',\n",
       " 'vectors/1b10d_vectors_e10_nonbin',\n",
       " 'vectors/1b12d_vectors_e10_nonbin',\n",
       " 'vectors/1b14d_vectors_e10_nonbin',\n",
       " 'vectors/1b16d_vectors_e10_nonbin',\n",
       " 'vectors/1b18d_vectors_e10_nonbin',\n",
       " 'vectors/1b20d_vectors_e10_nonbin',\n",
       " 'vectors/1b22d_vectors_e10_nonbin',\n",
       " 'vectors/1b24d_vectors_e10_nonbin',\n",
       " 'vectors/1b26d_vectors_e10_nonbin',\n",
       " 'vectors/1b28d_vectors_e10_nonbin',\n",
       " 'vectors/1b30d_vectors_e10_nonbin',\n",
       " 'vectors/1b32d_vectors_e10_nonbin',\n",
       " 'vectors/1b34d_vectors_e10_nonbin',\n",
       " 'vectors/1b36d_vectors_e10_nonbin',\n",
       " 'vectors/1b38d_vectors_e10_nonbin',\n",
       " 'vectors/1b40d_vectors_e10_nonbin',\n",
       " 'vectors/1b42d_vectors_e10_nonbin',\n",
       " 'vectors/1b44d_vectors_e10_nonbin',\n",
       " 'vectors/1b46d_vectors_e10_nonbin',\n",
       " 'vectors/1b48d_vectors_e10_nonbin',\n",
       " 'vectors/1b50d_vectors_e10_nonbin',\n",
       " 'vectors/1b52d_vectors_e10_nonbin',\n",
       " 'vectors/1b54d_vectors_e10_nonbin',\n",
       " 'vectors/1b56d_vectors_e10_nonbin',\n",
       " 'vectors/1b58d_vectors_e10_nonbin',\n",
       " 'vectors/1b60d_vectors_e10_nonbin',\n",
       " 'vectors/1b62d_vectors_e10_nonbin',\n",
       " 'vectors/1b64d_vectors_e10_nonbin',\n",
       " 'vectors/1b66d_vectors_e10_nonbin',\n",
       " 'vectors/1b68d_vectors_e10_nonbin',\n",
       " 'vectors/1b70d_vectors_e10_nonbin',\n",
       " 'vectors/1b72d_vectors_e10_nonbin',\n",
       " 'vectors/1b74d_vectors_e10_nonbin',\n",
       " 'vectors/1b76d_vectors_e10_nonbin',\n",
       " 'vectors/1b78d_vectors_e10_nonbin',\n",
       " 'vectors/1b80d_vectors_e10_nonbin',\n",
       " 'vectors/1b82d_vectors_e10_nonbin',\n",
       " 'vectors/1b84d_vectors_e10_nonbin',\n",
       " 'vectors/1b86d_vectors_e10_nonbin',\n",
       " 'vectors/1b88d_vectors_e10_nonbin',\n",
       " 'vectors/1b90d_vectors_e10_nonbin',\n",
       " 'vectors/1b92d_vectors_e10_nonbin',\n",
       " 'vectors/1b94d_vectors_e10_nonbin',\n",
       " 'vectors/1b96d_vectors_e10_nonbin',\n",
       " 'vectors/1b98d_vectors_e10_nonbin',\n",
       " 'vectors/1b100d_vectors_e10_nonbin',\n",
       " 'vectors/1b102d_vectors_e10_nonbin',\n",
       " 'vectors/1b104d_vectors_e10_nonbin',\n",
       " 'vectors/1b106d_vectors_e10_nonbin',\n",
       " 'vectors/1b108d_vectors_e10_nonbin',\n",
       " 'vectors/1b110d_vectors_e10_nonbin',\n",
       " 'vectors/1b112d_vectors_e10_nonbin',\n",
       " 'vectors/1b114d_vectors_e10_nonbin',\n",
       " 'vectors/1b116d_vectors_e10_nonbin',\n",
       " 'vectors/1b118d_vectors_e10_nonbin',\n",
       " 'vectors/1b120d_vectors_e10_nonbin',\n",
       " 'vectors/1b122d_vectors_e10_nonbin',\n",
       " 'vectors/1b124d_vectors_e10_nonbin',\n",
       " 'vectors/1b126d_vectors_e10_nonbin',\n",
       " 'vectors/1b128d_vectors_e10_nonbin',\n",
       " 'vectors/1b130d_vectors_e10_nonbin',\n",
       " 'vectors/1b132d_vectors_e10_nonbin',\n",
       " 'vectors/1b134d_vectors_e10_nonbin',\n",
       " 'vectors/1b136d_vectors_e10_nonbin']"
      ]
     },
     "execution_count": 21,
     "metadata": {},
     "output_type": "execute_result"
    }
   ],
   "source": [
    "# load the vectors trained in selected interval length, with selected step\n",
    "len_range = range(4, 138, 2)\n",
    "epochs = 10\n",
    "\n",
    "output_pattern = [\"vectors/1b%sd_vectors_e%s_nonbin\" % (l, epochs) for l in len_range]\n",
    "output_pattern"
   ]
  },
  {
   "cell_type": "code",
   "execution_count": 22,
   "metadata": {},
   "outputs": [],
   "source": [
    "# 4.1\n",
    "# def "
   ]
  }
 ],
 "metadata": {
  "kernelspec": {
   "display_name": "Python 3",
   "language": "python",
   "name": "python3"
  },
  "language_info": {
   "codemirror_mode": {
    "name": "ipython",
    "version": 3
   },
   "file_extension": ".py",
   "mimetype": "text/x-python",
   "name": "python",
   "nbconvert_exporter": "python",
   "pygments_lexer": "ipython3",
   "version": "3.6.6"
  }
 },
 "nbformat": 4,
 "nbformat_minor": 2
}
